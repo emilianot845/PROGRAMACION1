{
  "nbformat": 4,
  "nbformat_minor": 0,
  "metadata": {
    "colab": {
      "provenance": [],
      "authorship_tag": "ABX9TyPJ6glxK5zAzZfE8V697EHx",
      "include_colab_link": true
    },
    "kernelspec": {
      "name": "python3",
      "display_name": "Python 3"
    },
    "language_info": {
      "name": "python"
    }
  },
  "cells": [
    {
      "cell_type": "markdown",
      "metadata": {
        "id": "view-in-github",
        "colab_type": "text"
      },
      "source": [
        "<a href=\"https://colab.research.google.com/github/emilianot845/PROGRAMACION1/blob/main/ejercicio_clase_if.ipynb\" target=\"_parent\"><img src=\"https://colab.research.google.com/assets/colab-badge.svg\" alt=\"Open In Colab\"/></a>"
      ]
    },
    {
      "cell_type": "code",
      "execution_count": 13,
      "metadata": {
        "colab": {
          "base_uri": "https://localhost:8080/"
        },
        "id": "UZkZFZkj4f5A",
        "outputId": "0b425cbb-911d-4296-c724-cafdfaabf6d8"
      },
      "outputs": [
        {
          "output_type": "stream",
          "name": "stdout",
          "text": [
            "Ingresa tu edad 15\n",
            "Eres menor de edad \n"
          ]
        }
      ],
      "source": [
        "#Funcion input definiendo nuestra variable como entero\n",
        "edad=int(input(\"Ingresa tu edad \"))\n",
        "\n",
        "if(edad>=18):\n",
        "  print(\"Eres mayor de edad\")\n",
        "else:\n",
        "  print(\"Eres menor de edad \")"
      ]
    },
    {
      "cell_type": "markdown",
      "source": [
        "Hoy aprendios a utilizar if en funciones"
      ],
      "metadata": {
        "id": "LEN7gVy3A6kR"
      }
    }
  ]
}