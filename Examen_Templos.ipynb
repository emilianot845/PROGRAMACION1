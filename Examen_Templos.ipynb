{
  "nbformat": 4,
  "nbformat_minor": 0,
  "metadata": {
    "colab": {
      "provenance": [],
      "authorship_tag": "ABX9TyNACV7+2sjzQNBAzPB4EGhw",
      "include_colab_link": true
    },
    "kernelspec": {
      "name": "python3",
      "display_name": "Python 3"
    },
    "language_info": {
      "name": "python"
    }
  },
  "cells": [
    {
      "cell_type": "markdown",
      "metadata": {
        "id": "view-in-github",
        "colab_type": "text"
      },
      "source": [
        "<a href=\"https://colab.research.google.com/github/emilianot845/PROGRAMACION1/blob/main/Examen_Templos.ipynb\" target=\"_parent\"><img src=\"https://colab.research.google.com/assets/colab-badge.svg\" alt=\"Open In Colab\"/></a>"
      ]
    },
    {
      "cell_type": "code",
      "execution_count": 2,
      "metadata": {
        "colab": {
          "base_uri": "https://localhost:8080/"
        },
        "id": "-1PurpdaJzgh",
        "outputId": "bfe5dff7-9d0e-4924-8b9a-11d44df480d2"
      },
      "outputs": [
        {
          "output_type": "stream",
          "name": "stdout",
          "text": [
            "Menú Principal:\n",
            "1. Filtrar por género\n",
            "2. Filtrar por año\n",
            "3. Filtrar por calificación\n",
            "4. Combinar filtros\n",
            "5. Salir\n",
            "Seleccione una opción: 2\n",
            "Introduzca el año por el que desea filtrar: 2011\n",
            "Películas encontradas:\n",
            "Titulo: Incendies, Género: Drama, Año: 2011, Calificación: 9.2\n",
            "Menú Principal:\n",
            "1. Filtrar por género\n",
            "2. Filtrar por año\n",
            "3. Filtrar por calificación\n",
            "4. Combinar filtros\n",
            "5. Salir\n",
            "Seleccione una opción: 5\n",
            "¡Hasta luego!\n"
          ]
        }
      ],
      "source": [
        "#EJERCICIO 2 CATALOGO DE NETFLIX\n",
        "catalogo = [\n",
        "    {\"titulo\": \"Dune\", \"genero\": \"Ciencia ficcion\", \"año\": 2021, \"calificacion\": 8.9},\n",
        "    {\"titulo\": \"Goodfellas\", \"genero\": \"Drama\", \"año\": 1990, \"calificacion\": 9.6},\n",
        "    {\"titulo\": \"Irreversible\", \"genero\": \"Romance\", \"año\": 2002, \"calificacion\": 8.5},\n",
        "    {\"titulo\": \"Incendies\", \"genero\": \"Drama\", \"año\": 2011, \"calificacion\": 9.2}\n",
        "]\n",
        "\n",
        "def filtrar_por_genero(catalogo, genero):\n",
        "    peliculas_coincidentes = []\n",
        "    for pelicula in catalogo:\n",
        "        if pelicula[\"genero\"] == genero:\n",
        "            peliculas_coincidentes.append(pelicula)\n",
        "    return peliculas_coincidentes\n",
        "\n",
        "def filtrar_por_año(catalogo, año):\n",
        "    peliculas_coincidentes = []\n",
        "    for pelicula in catalogo:\n",
        "        if pelicula[\"año\"] == año:\n",
        "            peliculas_coincidentes.append(pelicula)\n",
        "    return peliculas_coincidentes\n",
        "\n",
        "def filtrar_por_calificacion(catalogo, calificacion):\n",
        "    peliculas_coincidentes = []\n",
        "    for pelicula in catalogo:\n",
        "        if pelicula[\"calificacion\"] >= calificacion:\n",
        "            peliculas_coincidentes.append(pelicula)\n",
        "    return peliculas_coincidentes\n",
        "\n",
        "\n",
        "while True:\n",
        "    print(\"Menú Principal:\")\n",
        "    print(\"1. Filtrar por género\")\n",
        "    print(\"2. Filtrar por año\")\n",
        "    print(\"3. Filtrar por calificación\")\n",
        "    print(\"4. Combinar filtros\")\n",
        "    print(\"5. Salir\")\n",
        "\n",
        "    opcion = input(\"Seleccione una opción: \")\n",
        "\n",
        "    if opcion == \"1\":\n",
        "        genero = input(\"Introduzca el género por el que desea filtrar: \")\n",
        "        peliculas = filtrar_por_genero(catalogo, genero)\n",
        "        if peliculas:\n",
        "            print(\"Películas encontradas:\")\n",
        "            for pelicula in peliculas:\n",
        "                print(f\"Titulo: {pelicula['titulo']}, Género: {pelicula['genero']}, Año: {pelicula['año']}, Calificación: {pelicula['calificacion']}\")\n",
        "        else:\n",
        "            print(\"No se encontraron películas que coincidan con el género especificado.\")\n",
        "    elif opcion == \"2\":\n",
        "        año = int(input(\"Introduzca el año por el que desea filtrar: \"))\n",
        "        peliculas = filtrar_por_año(catalogo, año)\n",
        "        if peliculas:\n",
        "            print(\"Películas encontradas:\")\n",
        "            for pelicula in peliculas:\n",
        "                print(f\"Titulo: {pelicula['titulo']}, Género: {pelicula['genero']}, Año: {pelicula['año']}, Calificación: {pelicula['calificacion']}\")\n",
        "        else:\n",
        "            print(\"No se encontraron películas lanzadas en el año especificado.\")\n",
        "    elif opcion == \"3\":\n",
        "        calificacion = float(input(\"Introduzca la calificación mínima por la que desea filtrar: \"))\n",
        "        peliculas = filtrar_por_calificacion(catalogo, calificacion)\n",
        "        if peliculas:\n",
        "            print(\"Películas encontradas:\")\n",
        "            for pelicula in peliculas:\n",
        "                print(f\"Titulo: {pelicula['titulo']}, Género: {pelicula['genero']}, Año: {pelicula['año']}, Calificación: {pelicula['calificacion']}\")\n",
        "        else:\n",
        "            print(\"No se encontraron películas con la calificación mínima especificada.\")\n",
        "    elif opcion == \"4\":\n",
        "        print(\"Función de combinación de filtros aún no implementada.\")\n",
        "    elif opcion == \"5\":\n",
        "        print(\"Vuelve pronto\")\n",
        "        break\n",
        "    else:\n",
        "        print(\"Opción no válida. Por favor, seleccione una opción válida.\")"
      ]
    },
    {
      "cell_type": "code",
      "source": [
        "#EJERCICIO 1 PORCENTAJE DE INTERES\n",
        "while True:\n",
        "    monto_prestamo = float(input(\"Ingrese el monto del préstamo: \"))\n",
        "    if monto_prestamo > 0:\n",
        "        break\n",
        "    else:\n",
        "        print(\"El monto del préstamo debe ser un número positivo. Inténtelo de nuevo.\")\n",
        "\n",
        "while True:\n",
        "    tasa_interes_anual = float(input(\"Ingrese la tasa de interés anual (en porcentaje): \"))\n",
        "    if tasa_interes_anual > 0:\n",
        "        break\n",
        "    else:\n",
        "        print(\"La tasa de interés anual debe ser un número positivo. Inténtelo de nuevo.\")\n",
        "\n",
        "while True:\n",
        "    plazo_anios = int(input(\"Ingrese el plazo del préstamo en años: \"))\n",
        "    if plazo_anios > 0:\n",
        "        break\n",
        "    else:\n",
        "        print(\"El plazo del préstamo debe ser un número positivo. Inténtelo de nuevo.\")\n",
        "\n",
        "tasa_interes_decimal = tasa_interes_anual / 100\n",
        "numero_pagos = plazo_anios * 12\n",
        "\n",
        "pago_mensual = (tasa_interes_decimal * monto_prestamo) / (1 - (1 + tasa_interes_decimal) ** -numero_pagos)\n",
        "\n",
        "total_intereses_pagados = pago_mensual * numero_pagos - monto_prestamo\n",
        "\n",
        "print(\"El pago mensual es:\", pago_mensual)\n",
        "print(\"El total de intereses pagados es:\", total_intereses_pagados)"
      ],
      "metadata": {
        "colab": {
          "base_uri": "https://localhost:8080/"
        },
        "id": "5ikf01ZWLSuD",
        "outputId": "aa9efd92-b5ac-4395-af0f-fe5b2b783744"
      },
      "execution_count": 3,
      "outputs": [
        {
          "output_type": "stream",
          "name": "stdout",
          "text": [
            "Ingrese el monto del préstamo: 500\n",
            "Ingrese la tasa de interés anual (en porcentaje): 58\n",
            "Ingrese el plazo del préstamo en años: 2\n",
            "El pago mensual es: 290.00495034337587\n",
            "El total de intereses pagados es: 6460.118808241021\n"
          ]
        }
      ]
    }
  ]
}