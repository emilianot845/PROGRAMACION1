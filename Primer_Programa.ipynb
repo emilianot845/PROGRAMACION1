{
  "nbformat": 4,
  "nbformat_minor": 0,
  "metadata": {
    "colab": {
      "provenance": [],
      "authorship_tag": "ABX9TyPVWe+n1QizkxI8jXrsLa5m",
      "include_colab_link": true
    },
    "kernelspec": {
      "name": "python3",
      "display_name": "Python 3"
    },
    "language_info": {
      "name": "python"
    }
  },
  "cells": [
    {
      "cell_type": "markdown",
      "metadata": {
        "id": "view-in-github",
        "colab_type": "text"
      },
      "source": [
        "<a href=\"https://colab.research.google.com/github/emilianot845/PROGRAMACION1/blob/main/Primer_Programa.ipynb\" target=\"_parent\"><img src=\"https://colab.research.google.com/assets/colab-badge.svg\" alt=\"Open In Colab\"/></a>"
      ]
    },
    {
      "cell_type": "code",
      "source": [
        "a=\"Para cuando la pizza\"\n",
        "print(a)"
      ],
      "metadata": {
        "colab": {
          "base_uri": "https://localhost:8080/"
        },
        "id": "atLlrUeG9NWp",
        "outputId": "5c6c055c-41cb-4fc2-d50b-1d5991c84852"
      },
      "execution_count": 9,
      "outputs": [
        {
          "output_type": "stream",
          "name": "stdout",
          "text": [
            "Para cuando la pizza\n"
          ]
        }
      ]
    },
    {
      "cell_type": "code",
      "source": [
        "Emiliano=input()\n",
        "print(Emiliano)"
      ],
      "metadata": {
        "colab": {
          "base_uri": "https://localhost:8080/"
        },
        "id": "JPgfb6Th_EF6",
        "outputId": "eb2c6450-c0bb-4618-da64-af3db4fa8ddf"
      },
      "execution_count": 11,
      "outputs": [
        {
          "output_type": "stream",
          "name": "stdout",
          "text": [
            "Templos\n",
            "Templos\n"
          ]
        }
      ]
    }
  ]
}