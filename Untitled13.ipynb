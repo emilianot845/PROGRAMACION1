{
  "nbformat": 4,
  "nbformat_minor": 0,
  "metadata": {
    "colab": {
      "provenance": [],
      "include_colab_link": true
    },
    "kernelspec": {
      "name": "python3",
      "display_name": "Python 3"
    },
    "language_info": {
      "name": "python"
    }
  },
  "cells": [
    {
      "cell_type": "markdown",
      "metadata": {
        "id": "view-in-github",
        "colab_type": "text"
      },
      "source": [
        "<a href=\"https://colab.research.google.com/github/emilianot845/PROGRAMACION1/blob/main/Untitled13.ipynb\" target=\"_parent\"><img src=\"https://colab.research.google.com/assets/colab-badge.svg\" alt=\"Open In Colab\"/></a>"
      ]
    },
    {
      "cell_type": "code",
      "source": [
        "# Falta definir los métodos, pero el proceso ya está hecho."
      ],
      "metadata": {
        "id": "slA_eQG0QVQp"
      },
      "execution_count": null,
      "outputs": []
    },
    {
      "cell_type": "code",
      "source": [
        "# Programación orientada a objetos"
      ],
      "metadata": {
        "id": "8EVt26QAO-wu"
      },
      "execution_count": null,
      "outputs": []
    },
    {
      "cell_type": "markdown",
      "source": [
        "**INTEGRANTES**:\n",
        "\n",
        "1.  Monsalvo Velázquez Naomi Adai\n",
        "2.  Pueblita Zacarias Araceli Michel\n",
        "3.  Juárez Trejo Fabian Guillermo\n",
        "4.  Templos Vldez Juan Emiliano\n",
        "5.  Hector Lopez Dominguez"
      ],
      "metadata": {
        "id": "OFzx_-2PXaPW"
      }
    },
    {
      "cell_type": "code",
      "execution_count": 8,
      "metadata": {
        "colab": {
          "base_uri": "https://localhost:8080/"
        },
        "id": "uG-qPRai2VQt",
        "outputId": "5b736e87-927d-43c2-d39c-096e267be5c6"
      },
      "outputs": [
        {
          "output_type": "stream",
          "name": "stdout",
          "text": [
            "Ingresa un número, por favor: 10\n",
            "El número es par.\n"
          ]
        }
      ],
      "source": [
        "num= int(input((\"Ingresa un número, por favor: \")))\n",
        "if num % 2 == 0:\n",
        "  print(\"El número es par.\")\n",
        "else:\n",
        "  print(\"El número es impar.\")"
      ]
    },
    {
      "cell_type": "markdown",
      "source": [
        "Aplicamos el criterio de divisibilidad para los numeros pares, en cualquier otro caso es un impar, con las funciones else y if"
      ],
      "metadata": {
        "id": "JR_LYU3NvMjQ"
      }
    },
    {
      "cell_type": "code",
      "source": [
        "import math\n",
        "\n",
        "def area_poli(n, s):\n",
        "    area = (n * s**2) / (4 * math.tan(math.pi / n))\n",
        "    return area\n",
        "num_lados = int(input(\"Numero de lados del poligono: \"))\n",
        "long_lado = float(input(\"Longitud de cada lado: \"))\n",
        "area_total = area_poli(num_lados, long_lado)\n",
        "print(\"El área del polígono regular es:\", area_total)\n"
      ],
      "metadata": {
        "colab": {
          "base_uri": "https://localhost:8080/"
        },
        "id": "YgSOsCrF3Dse",
        "outputId": "51469a58-94e5-4888-f6ef-de15594200df"
      },
      "execution_count": 9,
      "outputs": [
        {
          "output_type": "stream",
          "name": "stdout",
          "text": [
            "Numero de lados del poligono:  5\n",
            "Longitud de cada lado:  2\n",
            "El área del polígono regular es: 6.881909602355868\n"
          ]
        }
      ]
    },
    {
      "cell_type": "markdown",
      "source": [
        "En el ejercicio de los poligonos importamos la biblioteca math para definir valores como pi, ademas utilizamos la funcion tangente para hacerl valida nuestra formula."
      ],
      "metadata": {
        "id": "GCoIsMCWbvho"
      }
    },
    {
      "cell_type": "code",
      "source": [
        "# Código del capital\n",
        "\n",
        "c= float(input(\"Ingrese el capital inicial: \"))\n",
        "i= float(input(\"¿Cuál es la tasa de interés? \"))\n",
        "n= int(input(\"¿cuál es el número de periodos? \"))\n",
        "m=c*((1+i)**n)\n",
        "print(m)"
      ],
      "metadata": {
        "colab": {
          "base_uri": "https://localhost:8080/"
        },
        "id": "UoL-7hdGO4Oe",
        "outputId": "5f0b07fe-ee9c-43c4-a59e-9d0a990ccca6"
      },
      "execution_count": null,
      "outputs": [
        {
          "output_type": "stream",
          "name": "stdout",
          "text": [
            "Ingrese el capital inicial: 10\n",
            "¿Cuál es la tasa de interés? 1\n",
            "¿cuál es el número de periodos? 1\n",
            "20.0\n"
          ]
        }
      ]
    },
    {
      "cell_type": "code",
      "source": [
        "import random\n",
        "\n",
        "def adivina_adivinador():\n",
        "    num_sec = random.randint(1, 100)\n",
        "    print(\"Adivina el numero entre el 1 y el 100\")\n",
        "\n",
        "    intento = 1\n",
        "    max_intentos = 5\n",
        "\n",
        "    while intento <= max_intentos:\n",
        "        guess = int(input(\"Intento {}: Ingresa tu número: \".format(intento)))\n",
        "        if guess == num_sec:\n",
        "            print(\"¡Adivinaste el numero{} en {} intentos!\".format(num_sec, intento))\n",
        "            break\n",
        "        else:\n",
        "            if guess < num_sec:\n",
        "                print(\"Pista: El numero que escogiste es menor que el número secreto.\")\n",
        "            else:\n",
        "                print(\"Pista: El numero que escogiste es mayor que el número secreto.\")\n",
        "\n",
        "            intento += 1\n",
        "    if intento > max_intentos:\n",
        "        print(\"Ya no te quedan {} intentos. El número era {}.\".format(max_intentos, num_sec))\n",
        "adivina_adivinador()\n"
      ],
      "metadata": {
        "id": "kJ5_dRgHt10I",
        "outputId": "abfc084d-3347-4941-8eb5-71c65d4f98be",
        "colab": {
          "base_uri": "https://localhost:8080/"
        }
      },
      "execution_count": 29,
      "outputs": [
        {
          "output_type": "stream",
          "name": "stdout",
          "text": [
            "Adivina el numero entre el 1 y el 100\n",
            "Intento 1: Ingresa tu número:  50\n",
            "Pista: El numero que escogiste es menor que el número secreto.\n",
            "Intento 2: Ingresa tu número: 80\n",
            "Pista: El numero que escogiste es mayor que el número secreto.\n",
            "Intento 3: Ingresa tu número: 60\n",
            "Pista: El numero que escogiste es menor que el número secreto.\n",
            "Intento 4: Ingresa tu número: 70\n",
            "Pista: El numero que escogiste es menor que el número secreto.\n",
            "Intento 5: Ingresa tu número: 76\n",
            "Pista: El numero que escogiste es mayor que el número secreto.\n",
            "Ya no te quedan 5 intentos. El número era 74.\n"
          ]
        }
      ]
    },
    {
      "cell_type": "markdown",
      "source": [
        "En este codigo utilizamos una analogia similar a los anteriores, while para los intentos, else y if para las pistas, con un maximo de 5 intentos, ademas generamos un entero aleatorio entre el 1 y el 100 con la funcion random int"
      ],
      "metadata": {
        "id": "JCpdhh0Gu3Kd"
      }
    }
  ]
}