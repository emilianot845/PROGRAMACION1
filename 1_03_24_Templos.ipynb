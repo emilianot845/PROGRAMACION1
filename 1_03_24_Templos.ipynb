{
  "nbformat": 4,
  "nbformat_minor": 0,
  "metadata": {
    "colab": {
      "provenance": [],
      "authorship_tag": "ABX9TyPvtHatUHV8pdWQ6U+r1kJs",
      "include_colab_link": true
    },
    "kernelspec": {
      "name": "python3",
      "display_name": "Python 3"
    },
    "language_info": {
      "name": "python"
    }
  },
  "cells": [
    {
      "cell_type": "markdown",
      "metadata": {
        "id": "view-in-github",
        "colab_type": "text"
      },
      "source": [
        "<a href=\"https://colab.research.google.com/github/emilianot845/PROGRAMACION1/blob/main/1_03_24_Templos.ipynb\" target=\"_parent\"><img src=\"https://colab.research.google.com/assets/colab-badge.svg\" alt=\"Open In Colab\"/></a>"
      ]
    },
    {
      "cell_type": "code",
      "execution_count": 6,
      "metadata": {
        "colab": {
          "base_uri": "https://localhost:8080/"
        },
        "id": "Co5P-26zYgN6",
        "outputId": "4168a110-5a48-4e90-e8d4-8835772ca30f"
      },
      "outputs": [
        {
          "output_type": "stream",
          "name": "stdout",
          "text": [
            "Ingrese un numero para calcular su factorial 5\n",
            "El factorial de 5 es: 120\n"
          ]
        }
      ],
      "source": [
        "numero=int(input(\"Ingrese un numero para calcular su factorial\"))\n",
        "factorial=1\n",
        "contador=1\n",
        "\n",
        "while contador<=numero:\n",
        "   factorial*=contador\n",
        "   contador+=1\n",
        "\n",
        "print(f\"El factorial de {numero} es: {factorial}\")"
      ]
    },
    {
      "cell_type": "code",
      "source": [
        "suma_impares = 0\n",
        "for i in range(1, 51, 2):\n",
        "    suma_impares += i\n",
        "\n",
        "print(\"La suma de números impares de 1 a 50 es:\", suma_impares)"
      ],
      "metadata": {
        "colab": {
          "base_uri": "https://localhost:8080/"
        },
        "id": "IvF8eoEMdNvD",
        "outputId": "794691bd-9581-42a4-c4ec-e615ad9f94b9"
      },
      "execution_count": 7,
      "outputs": [
        {
          "output_type": "stream",
          "name": "stdout",
          "text": [
            "La suma de números impares de 1 a 50 es: 625\n"
          ]
        }
      ]
    },
    {
      "cell_type": "code",
      "source": [
        "def tabla_del_10():\n",
        "    for i in range(1, 11):\n",
        "        resultado = 10 * i\n",
        "        print(f\"10 x {i} = {resultado}\")\n",
        "# tabla_del_10()"
      ],
      "metadata": {
        "colab": {
          "base_uri": "https://localhost:8080/"
        },
        "id": "cgsBfnZ8etmI",
        "outputId": "f51f254b-d9c8-491f-a5c0-82877bdf634e"
      },
      "execution_count": 11,
      "outputs": [
        {
          "output_type": "stream",
          "name": "stdout",
          "text": [
            "10 x 1 = 10\n",
            "10 x 2 = 20\n",
            "10 x 3 = 30\n",
            "10 x 4 = 40\n",
            "10 x 5 = 50\n",
            "10 x 6 = 60\n",
            "10 x 7 = 70\n",
            "10 x 8 = 80\n",
            "10 x 9 = 90\n",
            "10 x 10 = 100\n"
          ]
        }
      ]
    }
  ]
}