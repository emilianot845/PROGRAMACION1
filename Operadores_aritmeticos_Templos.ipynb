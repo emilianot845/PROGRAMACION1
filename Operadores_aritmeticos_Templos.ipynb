{
  "nbformat": 4,
  "nbformat_minor": 0,
  "metadata": {
    "colab": {
      "provenance": [],
      "authorship_tag": "ABX9TyM3LNsc5OKMyP1zNRSk85qp",
      "include_colab_link": true
    },
    "kernelspec": {
      "name": "python3",
      "display_name": "Python 3"
    },
    "language_info": {
      "name": "python"
    }
  },
  "cells": [
    {
      "cell_type": "markdown",
      "metadata": {
        "id": "view-in-github",
        "colab_type": "text"
      },
      "source": [
        "<a href=\"https://colab.research.google.com/github/emilianot845/PROGRAMACION1/blob/main/Operadores_aritmeticos_Templos.ipynb\" target=\"_parent\"><img src=\"https://colab.research.google.com/assets/colab-badge.svg\" alt=\"Open In Colab\"/></a>"
      ]
    },
    {
      "cell_type": "code",
      "execution_count": 1,
      "metadata": {
        "colab": {
          "base_uri": "https://localhost:8080/"
        },
        "id": "CZ6AjTgCUUzA",
        "outputId": "5b02cf20-081c-44d2-e544-57bca73b4e7c"
      },
      "outputs": [
        {
          "output_type": "stream",
          "name": "stdout",
          "text": [
            "Ingrese el primer número: 5\n",
            "Ingrese el segundo número: 10\n",
            "El resultado de la suma es: 15.0\n"
          ]
        }
      ],
      "source": [
        "#OPERADOR_1_SUMA\n",
        "\"\"\"Nos ayudaremos de la funcion return para volver a utilizar la funcion previamente establecida\"\"\"\n",
        "def suma(x, y):\n",
        "    suma = x + y\n",
        "    return suma\n",
        "num1 = float(input(\"Ingrese el primer número: \"))\n",
        "num2 = float(input(\"Ingrese el segundo número: \"))\n",
        "\n",
        "resultado_suma = suma(num1, num2)\n",
        "print(\"El resultado de la suma es:\", resultado_suma)"
      ]
    },
    {
      "cell_type": "code",
      "source": [
        "#OPERADOR_2_RESTA\n",
        "def resta(x, y):\n",
        "    resta = x - y\n",
        "    return resta\n",
        "num1 = float(input(\"Ingrese el primer número: \"))\n",
        "num2 = float(input(\"Ingrese el segundo número: \"))\n",
        "\n",
        "resultado_resta = resta(num1, num2)\n",
        "print(\"El resultado de la resta es:\", resultado_resta)"
      ],
      "metadata": {
        "colab": {
          "base_uri": "https://localhost:8080/"
        },
        "id": "z6Dtqc0CUzVI",
        "outputId": "448a1b5c-134b-4d97-dffa-0bdbc419bc9e"
      },
      "execution_count": 3,
      "outputs": [
        {
          "output_type": "stream",
          "name": "stdout",
          "text": [
            "Ingrese el primer número: 10\n",
            "Ingrese el segundo número: 5\n",
            "El resultado de la resta es: 5.0\n"
          ]
        }
      ]
    },
    {
      "cell_type": "code",
      "source": [
        "#OPERADOR_3_MULTIPLICACION\n",
        "def multiplicacion(x, y):\n",
        "    multiplicacion = x * y\n",
        "    return multiplicacion\n",
        "num1 = float(input(\"Ingrese el primer número: \"))\n",
        "num2 = float(input(\"Ingrese el segundo número: \"))\n",
        "\n",
        "resultado_multiplicacion = multiplicacion(num1, num2)\n",
        "print(\"El resultado de la multiplicacion es:\", resultado_multiplicacion)"
      ],
      "metadata": {
        "colab": {
          "base_uri": "https://localhost:8080/"
        },
        "id": "o6dcVaYAVYTI",
        "outputId": "a1a44a4e-8696-440c-b408-c50865f4bf3c"
      },
      "execution_count": 4,
      "outputs": [
        {
          "output_type": "stream",
          "name": "stdout",
          "text": [
            "Ingrese el primer número: 2\n",
            "Ingrese el segundo número: 10\n",
            "El resultado de la multiplicacion es: 20.0\n"
          ]
        }
      ]
    },
    {
      "cell_type": "code",
      "source": [
        "#OPERADOR_4_DIVISION\n",
        "def division(x, y):\n",
        "    division = x / y\n",
        "    return division\n",
        "num1 = float(input(\"Ingrese el primer número: \"))\n",
        "num2 = float(input(\"Ingrese el segundo número: \"))\n",
        "\n",
        "resultado_division = division(num1, num2)\n",
        "print(\"El resultado de la division es:\", resultado_division)"
      ],
      "metadata": {
        "colab": {
          "base_uri": "https://localhost:8080/"
        },
        "id": "9UkLxOCrVrUc",
        "outputId": "72aec3c9-18ae-4c65-cf9c-fabefc21d36b"
      },
      "execution_count": 5,
      "outputs": [
        {
          "output_type": "stream",
          "name": "stdout",
          "text": [
            "Ingrese el primer número: 10\n",
            "Ingrese el segundo número: 2\n",
            "El resultado de la division es: 5.0\n"
          ]
        }
      ]
    },
    {
      "cell_type": "code",
      "source": [
        "#OPERADOR_5_POTENCIA\n",
        "def pot(x, y):\n",
        "    pot = x ** y\n",
        "    return pot\n",
        "num1 = float(input(\"Ingrese el primer número: \"))\n",
        "num2 = float(input(\"Ingrese el segundo número: \"))\n",
        "\n",
        "resultado_pot = pot(num1, num2)\n",
        "print(\"El resultado de la division es:\", resultado_pot)"
      ],
      "metadata": {
        "colab": {
          "base_uri": "https://localhost:8080/"
        },
        "id": "4FEmlwrjWM3f",
        "outputId": "6e7d853d-77c4-4712-9bf7-5614f497303e"
      },
      "execution_count": 6,
      "outputs": [
        {
          "output_type": "stream",
          "name": "stdout",
          "text": [
            "Ingrese el primer número: 2\n",
            "Ingrese el segundo número: 3\n",
            "El resultado de la division es: 8.0\n"
          ]
        }
      ]
    },
    {
      "cell_type": "code",
      "source": [
        "#OPERADOR_6_COCIENTE\n",
        "\"\"\"Si el cociente tiene un divisor distinto de cero no marcara error, en otro caso utilizamos la funcion else para agregar esa posibilidad\"\"\"\n",
        "dividendo = float(input(\"Ingrese el dividendo: \"))\n",
        "divisor = float(input(\"Ingrese el divisor: \"))\n",
        "\n",
        "# Evitar que el denominador sea cero con la funcion if\n",
        "if divisor != 0:\n",
        "    # Cociente\n",
        "    cociente = dividendo / divisor\n",
        "    print(\"El cociente es:\", cociente)\n",
        "else:\n",
        "    print(\"Error: No se puede dividir por cero.\")"
      ],
      "metadata": {
        "colab": {
          "base_uri": "https://localhost:8080/"
        },
        "id": "xQr-6qDmW2tZ",
        "outputId": "f6353aea-8a58-4067-d98b-c837a382b4f3"
      },
      "execution_count": 7,
      "outputs": [
        {
          "output_type": "stream",
          "name": "stdout",
          "text": [
            "Ingrese el dividendo: 10\n",
            "Ingrese el divisor: 2\n",
            "El cociente es: 5.0\n"
          ]
        }
      ]
    },
    {
      "cell_type": "code",
      "source": [
        "#OPERADOR_7_PORCENTAJE\n",
        "def calcular_porcentaje(num, porcentaje):\n",
        "    resultado = (num * porcentaje) / 100\n",
        "    return resultado\n",
        "num = float(input(\"Ingrese el número: \"))\n",
        "porcentaje = float(input(\"Ingrese el porcentaje: \"))\n",
        "\n",
        "resultado_porcentaje = calcular_porcentaje(num, porcentaje)\n",
        "print(f\"{porcentaje}% de {num} es: {resultado_porcentaje}\")"
      ],
      "metadata": {
        "colab": {
          "base_uri": "https://localhost:8080/"
        },
        "id": "T4qP5U8VXuTa",
        "outputId": "c536776d-53e9-4d84-ea9f-5eebf91ccd22"
      },
      "execution_count": 8,
      "outputs": [
        {
          "output_type": "stream",
          "name": "stdout",
          "text": [
            "Ingrese el número: 100\n",
            "Ingrese el porcentaje: 10\n",
            "10.0% de 100.0 es: 10.0\n"
          ]
        }
      ]
    }
  ]
}