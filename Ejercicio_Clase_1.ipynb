{
  "nbformat": 4,
  "nbformat_minor": 0,
  "metadata": {
    "colab": {
      "provenance": [],
      "authorship_tag": "ABX9TyOhJVzpvKhVW1xRpNW3SPnj",
      "include_colab_link": true
    },
    "kernelspec": {
      "name": "python3",
      "display_name": "Python 3"
    },
    "language_info": {
      "name": "python"
    }
  },
  "cells": [
    {
      "cell_type": "markdown",
      "metadata": {
        "id": "view-in-github",
        "colab_type": "text"
      },
      "source": [
        "<a href=\"https://colab.research.google.com/github/emilianot845/PROGRAMACION1/blob/main/Ejercicio_Clase_1.ipynb\" target=\"_parent\"><img src=\"https://colab.research.google.com/assets/colab-badge.svg\" alt=\"Open In Colab\"/></a>"
      ]
    },
    {
      "cell_type": "code",
      "source": [
        "\"\"\"OPERADOR 3\n",
        "Descomenta la siguiente línea y explica brevemente la operación\"\"\"\n",
        "#Primero hay que definir la funcion x para operar con el por ejemplo con el numero 5#\n",
        "x=5\n",
        "x-=3\n",
        "print(x)\n",
        "\n"
      ],
      "metadata": {
        "colab": {
          "base_uri": "https://localhost:8080/"
        },
        "id": "9Qmj4sLzCBY2",
        "outputId": "f76daa58-56d6-4663-c6fb-519b01212c78"
      },
      "execution_count": 11,
      "outputs": [
        {
          "output_type": "stream",
          "name": "stdout",
          "text": [
            "2\n"
          ]
        }
      ]
    },
    {
      "cell_type": "code",
      "source": [
        "\"\"\"OPERADOR 4\n",
        "Descomenta la siguiente línea y explica brevemente la operación\n",
        "\"\"\"\n",
        "#Definimos la funcion x con otro numero\"\n",
        "x=15\n",
        "x*=2\n",
        "print(x)\n"
      ],
      "metadata": {
        "colab": {
          "base_uri": "https://localhost:8080/"
        },
        "id": "DVUj_BpjDg_m",
        "outputId": "a71765d3-394e-4b50-c7f9-72f07b754d5c"
      },
      "execution_count": 6,
      "outputs": [
        {
          "output_type": "stream",
          "name": "stdout",
          "text": [
            "30\n"
          ]
        }
      ]
    },
    {
      "cell_type": "code",
      "source": [
        "\"\"\"OPERADOR 5\n",
        "Descomenta la siguiente línea y explica brevemente la operación\n",
        "\"\"\"\n",
        "x=10\n",
        "x/=2\n",
        "print(x)"
      ],
      "metadata": {
        "colab": {
          "base_uri": "https://localhost:8080/"
        },
        "id": "CvsVUEoXFWsC",
        "outputId": "1dcc22d0-b37b-45a4-d0d4-e8b7a1869049"
      },
      "execution_count": 12,
      "outputs": [
        {
          "output_type": "stream",
          "name": "stdout",
          "text": [
            "5.0\n"
          ]
        }
      ]
    },
    {
      "cell_type": "code",
      "source": [
        "\"\"\"OPERADOR 6\n",
        "Descomenta la siguiente línea y explica brevemente la operación\n",
        "\"\"\"\n",
        "#Sacar el porcentaje de un numero\n",
        "x=100\n",
        "x%=10\n",
        "print(x)"
      ],
      "metadata": {
        "colab": {
          "base_uri": "https://localhost:8080/"
        },
        "id": "pHWe55IBGDXe",
        "outputId": "bf30576d-c27a-4ae5-b474-e488b05e5c18"
      },
      "execution_count": 18,
      "outputs": [
        {
          "output_type": "stream",
          "name": "stdout",
          "text": [
            "0\n"
          ]
        }
      ]
    },
    {
      "cell_type": "code",
      "source": [
        "\"\"\"OPERADOR 7\n",
        "Descomenta la siguiente línea y explica brevemente la operación\n",
        "\"\"\"\n",
        "#Dividir entre dos\n",
        "x=10\n",
        "print(x/2)\n",
        "x//2\n",
        "print(x)"
      ],
      "metadata": {
        "colab": {
          "base_uri": "https://localhost:8080/"
        },
        "id": "dWd9ZEhrGdR7",
        "outputId": "c33d7992-9fca-4b93-c261-d92ead4f0c1d"
      },
      "execution_count": 16,
      "outputs": [
        {
          "output_type": "stream",
          "name": "stdout",
          "text": [
            "5.0\n",
            "10\n"
          ]
        }
      ]
    }
  ]
}