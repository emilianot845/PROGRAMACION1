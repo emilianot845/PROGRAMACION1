{
  "nbformat": 4,
  "nbformat_minor": 0,
  "metadata": {
    "colab": {
      "provenance": [],
      "authorship_tag": "ABX9TyMAx4mMPjJ1rovgS718uyRC",
      "include_colab_link": true
    },
    "kernelspec": {
      "name": "python3",
      "display_name": "Python 3"
    },
    "language_info": {
      "name": "python"
    }
  },
  "cells": [
    {
      "cell_type": "markdown",
      "metadata": {
        "id": "view-in-github",
        "colab_type": "text"
      },
      "source": [
        "<a href=\"https://colab.research.google.com/github/emilianot845/PROGRAMACION1/blob/main/RFC_TEMPLOS.ipynb\" target=\"_parent\"><img src=\"https://colab.research.google.com/assets/colab-badge.svg\" alt=\"Open In Colab\"/></a>"
      ]
    },
    {
      "cell_type": "code",
      "source": [
        "def bienvenida():\n",
        "    print(\"Bienvenido al sistema generador de RFC\")\n",
        "\n",
        "def generar_rfc_persona_fisica(nombre, apellido_paterno, apellido_materno, fecha_nacimiento):\n",
        "    rfc = apellido_paterno[0].upper()\n",
        "    for letra in apellido_paterno[1:]:\n",
        "        if letra.upper() in [\"A\", \"E\", \"I\", \"O\", \"U\"]:\n",
        "            rfc += letra.upper()\n",
        "            break\n",
        "    rfc += apellido_materno[0].upper()\n",
        "    rfc += nombre[0].upper()\n",
        "\n",
        "    partes_fecha = fecha_nacimiento.split(\"-\")\n",
        "    rfc += partes_fecha[0][2:]\n",
        "    rfc += partes_fecha[1]\n",
        "    rfc += partes_fecha[2]\n",
        "    return rfc\n",
        "\n",
        "def generar_rfc_persona_moral():\n",
        "    print(\"Este sistema no está preparado para generar RFC de personas morales\")\n",
        "\n",
        "def generar_rfc():\n",
        "    while True:\n",
        "        tipo_persona = input(\"¿Qué tipo de persona solicita el RFC? (Fisica/Moral) (Presione 'q' para salir): \").lower()\n",
        "        if tipo_persona == 'q':\n",
        "            break\n",
        "        elif tipo_persona == 'moral':\n",
        "            generar_rfc_persona_moral()\n",
        "            continue\n",
        "        elif tipo_persona == 'fisica':\n",
        "            nombre = input(\"Ingrese el nombre: \")\n",
        "            apellido_paterno = input(\"Ingrese el apellido paterno: \")\n",
        "            apellido_materno = input(\"Ingrese el apellido materno: \")\n",
        "            fecha_nacimiento = input(\"Ingrese fecha de nacimiento (YYYY-MM-DD): \")\n",
        "            rfc = generar_rfc_persona_fisica(nombre, apellido_paterno, apellido_materno, fecha_nacimiento)\n",
        "            print(\"El RFC generado es:\", rfc)\n",
        "        respuesta = input(\"¿Desea generar otro RFC? (Si/No): \").lower()\n",
        "        if respuesta != 'si':\n",
        "            break\n",
        "\n",
        "def main():\n",
        "    bienvenida()\n",
        "    generar_rfc()\n",
        "\n",
        "if __name__ == '__main__':\n",
        "    main()\n"
      ],
      "metadata": {
        "colab": {
          "base_uri": "https://localhost:8080/"
        },
        "id": "RxRnpDErzvQX",
        "outputId": "b232299f-a406-408b-d4d1-cd7b381027f2"
      },
      "execution_count": 12,
      "outputs": [
        {
          "name": "stdout",
          "output_type": "stream",
          "text": [
            "Bienvenido al sistema generador de RFC\n",
            "¿Qué tipo de persona solicita el RFC? (Fisica/Moral) (Presione 'q' para salir): Fisica\n",
            "Ingrese el nombre: Juan Emiliano\n",
            "Ingrese el apellido paterno: Templos\n",
            "Ingrese el apellido materno: Valdez\n",
            "Ingrese fecha de nacimiento (YYYY-MM-DD): 2003-10-08\n",
            "El RFC generado es: TEVJ031008\n",
            "¿Desea generar otro RFC? (Si/No): No\n"
          ]
        }
      ]
    }
  ]
}